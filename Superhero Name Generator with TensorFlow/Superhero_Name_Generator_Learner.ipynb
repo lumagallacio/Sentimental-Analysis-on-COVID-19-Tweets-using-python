{
  "nbformat": 4,
  "nbformat_minor": 0,
  "metadata": {
    "accelerator": "GPU",
    "colab": {
      "name": "Superhero_Name_Generator_Learner.ipynb",
      "provenance": [],
      "collapsed_sections": [],
      "include_colab_link": true
    },
    "kernelspec": {
      "display_name": "Python 3",
      "language": "python",
      "name": "python3"
    },
    "language_info": {
      "codemirror_mode": {
        "name": "ipython",
        "version": 3
      },
      "file_extension": ".py",
      "mimetype": "text/x-python",
      "name": "python",
      "nbconvert_exporter": "python",
      "pygments_lexer": "ipython3",
      "version": "3.8.3"
    }
  },
  "cells": [
    {
      "cell_type": "markdown",
      "metadata": {
        "id": "view-in-github",
        "colab_type": "text"
      },
      "source": [
        "<a href=\"https://colab.research.google.com/github/lumagallacio/python-projects/blob/main/Superhero%20Name%20Generator%20with%20TensorFlow/Superhero_Name_Generator_Learner.ipynb\" target=\"_parent\"><img src=\"https://colab.research.google.com/assets/colab-badge.svg\" alt=\"Open In Colab\"/></a>"
      ]
    },
    {
      "cell_type": "markdown",
      "metadata": {
        "id": "21XXWP7Fpt2L"
      },
      "source": [
        "# Superhero (and Supervillain) Name Generator\n",
        "\n",
        "We are going to create a model that will predict the character for a given sequence. We will give for our trainned model a seed input, this can be a single character or a sequence. So the model will generate the next character. It will predict the next character in that sequence. This character is added to the seed input to create a new input, wich is then used again to generate the next character and soon.\n",
        "\n",
        "This project uses TensorFlow and Google Colab. We will understand how use TensorFlow framework to start performing natural language processing tasks like text classification, text generation.\n",
        "\n",
        "---\n",
        "\n",
        "[Superhero Names Dataset](https://github.com/am1tyadav/superhero)"
      ]
    },
    {
      "cell_type": "markdown",
      "metadata": {
        "id": "H6P0NU5Cpt2R"
      },
      "source": [
        "## Task 2\n",
        "\n",
        "1. Import the data\n",
        "2. Create a tokenizer\n",
        "3. Char to index and Index to char dictionaries"
      ]
    },
    {
      "cell_type": "code",
      "metadata": {
        "id": "srULhalZpt2M",
        "colab": {
          "base_uri": "https://localhost:8080/"
        },
        "outputId": "0d8da9ff-72d7-4757-c6a6-fdaeff36adfe"
      },
      "source": [
        "!git clone https://github.com/am1tyadav/superhero"
      ],
      "execution_count": 47,
      "outputs": [
        {
          "output_type": "stream",
          "text": [
            "fatal: destination path 'superhero' already exists and is not an empty directory.\n"
          ],
          "name": "stdout"
        }
      ]
    },
    {
      "cell_type": "code",
      "metadata": {
        "id": "uq4CLmsLpt2P",
        "colab": {
          "base_uri": "https://localhost:8080/",
          "height": 35
        },
        "outputId": "ee0a100e-f031-405d-fb79-9cd0ecb0cf25"
      },
      "source": [
        "with open('/content/superhero/superheroes.txt', 'r') as f:\n",
        "  data = f.read()\n",
        "\n",
        "data[:100] #print firts 10 character\n",
        "# \\n is a new line character\n",
        "# \\t is a tab and indicates the end of the name"
      ],
      "execution_count": 48,
      "outputs": [
        {
          "output_type": "execute_result",
          "data": {
            "application/vnd.google.colaboratory.intrinsic+json": {
              "type": "string"
            },
            "text/plain": [
              "'jumpa\\t\\ndoctor fate\\t\\nstarlight\\t\\nisildur\\t\\nlasher\\t\\nvarvara\\t\\nthe target\\t\\naxel\\t\\nbattra\\t\\nchangeling\\t\\npyrrh'"
            ]
          },
          "metadata": {
            "tags": []
          },
          "execution_count": 48
        }
      ]
    },
    {
      "cell_type": "markdown",
      "metadata": {
        "id": "p0s0pvpM-0DR"
      },
      "source": [
        "for train our model with this data, we cannot feed the characters, we have to tokennize them. What means that we have to create a numeric representation for our characters."
      ]
    },
    {
      "cell_type": "code",
      "metadata": {
        "id": "JqhtLuAHpt2R",
        "colab": {
          "base_uri": "https://localhost:8080/"
        },
        "outputId": "cba687f5-1581-440d-b4ed-95776ed48e4b"
      },
      "source": [
        "import tensorflow as tf\n",
        "print(tf.__version__)"
      ],
      "execution_count": 49,
      "outputs": [
        {
          "output_type": "stream",
          "text": [
            "2.3.0\n"
          ],
          "name": "stdout"
        }
      ]
    },
    {
      "cell_type": "markdown",
      "metadata": {
        "id": "d_6W6I9J_mGJ"
      },
      "source": [
        "we need specify filters because we want to keep the tab character in our examples. Bur we are filtering all the other symbols that we don't want to use in our vocabulary."
      ]
    },
    {
      "cell_type": "code",
      "metadata": {
        "id": "95Lo1Yqzpt2T"
      },
      "source": [
        "tokenizer = tf.keras.preprocessing.text.Tokenizer(\n",
        "    filters='!\"#$%&()*+,-./:;<=>?@[\\\\]^_`{|}~',\n",
        "    split='\\n',\n",
        ")"
      ],
      "execution_count": 50,
      "outputs": []
    },
    {
      "cell_type": "markdown",
      "metadata": {
        "id": "wpyDQFdxA02S"
      },
      "source": [
        "after fit our data, it's able to convert sequence of characters to sequence of number. "
      ]
    },
    {
      "cell_type": "code",
      "metadata": {
        "id": "qYfC4sj2pt2V"
      },
      "source": [
        "tokenizer.fit_on_texts(data)"
      ],
      "execution_count": 51,
      "outputs": []
    },
    {
      "cell_type": "markdown",
      "metadata": {
        "id": "6CMOxvxWBgbW"
      },
      "source": [
        "two dictionary. Firts transform characters to indices, it's important because neural network model does not understand characters but it does understand numbers"
      ]
    },
    {
      "cell_type": "code",
      "metadata": {
        "id": "EO4-dPM6pt2X",
        "colab": {
          "base_uri": "https://localhost:8080/"
        },
        "outputId": "45476f97-f729-4818-cab1-a1287d6f7293"
      },
      "source": [
        "char_to_index = tokenizer.word_index #characters to indices\n",
        "\n",
        "index_to_char = dict((v,k) for k,v in char_to_index.items()) #indices to characters\n",
        "\n",
        "print(index_to_char)"
      ],
      "execution_count": 52,
      "outputs": [
        {
          "output_type": "stream",
          "text": [
            "{1: '\\t', 2: 'a', 3: 'e', 4: 'r', 5: 'o', 6: 'n', 7: 'i', 8: ' ', 9: 't', 10: 's', 11: 'l', 12: 'm', 13: 'h', 14: 'd', 15: 'c', 16: 'u', 17: 'g', 18: 'k', 19: 'b', 20: 'p', 21: 'y', 22: 'w', 23: 'f', 24: 'v', 25: 'j', 26: 'z', 27: 'x', 28: 'q'}\n"
          ],
          "name": "stdout"
        }
      ]
    },
    {
      "cell_type": "markdown",
      "metadata": {
        "id": "SMwtIw_Bpt2Z"
      },
      "source": [
        "## Task 3\n",
        "\n",
        "1. Converting between names and sequences\n",
        "\n",
        "the predictions of our model are going to be sequences of number, so we need to convert again, using the dictionaries that we created in the previous task, to names. So we want to see our predictions converted to names."
      ]
    },
    {
      "cell_type": "markdown",
      "metadata": {
        "id": "uRsAxWcrxuFu"
      },
      "source": [
        "Let's take a look at all the names"
      ]
    },
    {
      "cell_type": "code",
      "metadata": {
        "id": "N7iQLIXzpt2a",
        "colab": {
          "base_uri": "https://localhost:8080/"
        },
        "outputId": "af4e3355-315d-493d-f119-094d08664c85"
      },
      "source": [
        "names = data.splitlines() #returns a list with all the lines in string using \\n \r\n",
        "names[:10]"
      ],
      "execution_count": 53,
      "outputs": [
        {
          "output_type": "execute_result",
          "data": {
            "text/plain": [
              "['jumpa\\t',\n",
              " 'doctor fate\\t',\n",
              " 'starlight\\t',\n",
              " 'isildur\\t',\n",
              " 'lasher\\t',\n",
              " 'varvara\\t',\n",
              " 'the target\\t',\n",
              " 'axel\\t',\n",
              " 'battra\\t',\n",
              " 'changeling\\t']"
            ]
          },
          "metadata": {
            "tags": []
          },
          "execution_count": 53
        }
      ]
    },
    {
      "cell_type": "markdown",
      "metadata": {
        "id": "i1r1Je3syTFa"
      },
      "source": [
        "to convert char to number we just need to use the tokenizer"
      ]
    },
    {
      "cell_type": "code",
      "metadata": {
        "id": "n_-TTfqipt2c",
        "colab": {
          "base_uri": "https://localhost:8080/"
        },
        "outputId": "dbd6511a-d922-458c-b536-2cb4d875d482"
      },
      "source": [
        "tokenizer.texts_to_sequences(names[0]) # just pass \"jumpa\" name"
      ],
      "execution_count": 54,
      "outputs": [
        {
          "output_type": "execute_result",
          "data": {
            "text/plain": [
              "[[25], [16], [12], [20], [2], [1]]"
            ]
          },
          "metadata": {
            "tags": []
          },
          "execution_count": 54
        }
      ]
    },
    {
      "cell_type": "markdown",
      "metadata": {
        "id": "CfzCUDaZzur5"
      },
      "source": [
        "we will create a function to do this"
      ]
    },
    {
      "cell_type": "code",
      "metadata": {
        "id": "P6IsKH1Upt2e"
      },
      "source": [
        "def name_to_seq(name):\r\n",
        "  return [tokenizer.texts_to_sequences(c)[0][0] for c in name]"
      ],
      "execution_count": 55,
      "outputs": []
    },
    {
      "cell_type": "code",
      "metadata": {
        "id": "TuLUiMP3pt2g",
        "colab": {
          "base_uri": "https://localhost:8080/"
        },
        "outputId": "db0cf593-6144-47c8-eaa0-ce383257bc14"
      },
      "source": [
        "name_to_seq(names[0])"
      ],
      "execution_count": 56,
      "outputs": [
        {
          "output_type": "execute_result",
          "data": {
            "text/plain": [
              "[25, 16, 12, 20, 2, 1]"
            ]
          },
          "metadata": {
            "tags": []
          },
          "execution_count": 56
        }
      ]
    },
    {
      "cell_type": "markdown",
      "metadata": {
        "id": "9yTamn6G1wC0"
      },
      "source": [
        "we need to do the oposite\r\n",
        "\r\n",
        "0 is not defined. We look ate the caracter value associated with the index anf then joined to create a name"
      ]
    },
    {
      "cell_type": "code",
      "metadata": {
        "id": "yFUYhimKpt2h"
      },
      "source": [
        "def seq_to_name(seq):\r\n",
        "  return ''.join([index_to_char[i] for i in seq if i !=0]) "
      ],
      "execution_count": 57,
      "outputs": []
    },
    {
      "cell_type": "code",
      "metadata": {
        "id": "ROhCqmhLpt2k",
        "colab": {
          "base_uri": "https://localhost:8080/",
          "height": 35
        },
        "outputId": "9ba3da9c-2283-4228-e920-33ea17fa4b77"
      },
      "source": [
        "seq_to_name(name_to_seq(names[0]))"
      ],
      "execution_count": 58,
      "outputs": [
        {
          "output_type": "execute_result",
          "data": {
            "application/vnd.google.colaboratory.intrinsic+json": {
              "type": "string"
            },
            "text/plain": [
              "'jumpa\\t'"
            ]
          },
          "metadata": {
            "tags": []
          },
          "execution_count": 58
        }
      ]
    },
    {
      "cell_type": "code",
      "metadata": {
        "id": "qqUslVMA8gFj"
      },
      "source": [
        ""
      ],
      "execution_count": 58,
      "outputs": []
    },
    {
      "cell_type": "markdown",
      "metadata": {
        "id": "uCbAzsNjpt2m"
      },
      "source": [
        "## Task 4\n",
        "\n",
        "1. Creating sequences\n",
        "2. Padding all sequences"
      ]
    },
    {
      "cell_type": "markdown",
      "metadata": {
        "id": "1-hnackJ0tCQ"
      },
      "source": [
        "we will create sequences (of numbers). these sequences are essentially all the examples from all the names that we have in our dataset. So let's create a list of sequences.\r\n",
        "\r\n",
        "For example, the name \"jumpa\\t\", we can split that to J and U where J will be the input example and U is going to be the label. We are asking to the model that, hey if you see a sequence with just J in it, then predict U. But the sequences can be longer, but at least they need to be two characters long. So we're starting with two, and then will be three in the next iteration, so our example will  become JUM and will be added to sequences. And then we will have JUMP and than JUMPA, JUMPA\\t"
      ]
    },
    {
      "cell_type": "code",
      "metadata": {
        "colab": {
          "base_uri": "https://localhost:8080/"
        },
        "id": "rpHJN2s0BP5V",
        "outputId": "a91a4378-8dc9-41a9-b3e6-6f34b2b3053b"
      },
      "source": [
        "sequence1=[]\r\n",
        "seq = name_to_seq(names[0])\r\n",
        "if len(seq)>=2: #each example with at least two characters \r\n",
        "  sequence1 += [seq[:i] for i in range(2, len(seq)+1)]\r\n",
        "sequence1"
      ],
      "execution_count": 59,
      "outputs": [
        {
          "output_type": "execute_result",
          "data": {
            "text/plain": [
              "[[25, 16],\n",
              " [25, 16, 12],\n",
              " [25, 16, 12, 20],\n",
              " [25, 16, 12, 20, 2],\n",
              " [25, 16, 12, 20, 2, 1]]"
            ]
          },
          "metadata": {
            "tags": []
          },
          "execution_count": 59
        }
      ]
    },
    {
      "cell_type": "code",
      "metadata": {
        "id": "zstNn-0dpt2m",
        "colab": {
          "base_uri": "https://localhost:8080/"
        },
        "outputId": "0cc6b7c0-87d2-46a2-8738-a5c95b8fbf02"
      },
      "source": [
        "sequences = []\r\n",
        "\r\n",
        "for name in names:\r\n",
        "  seq = name_to_seq(name)\r\n",
        "  if len(seq)>=2: #each example with at least two characters \r\n",
        "    sequences += [seq[:i] for i in range(2, len(seq)+1)]\r\n",
        "sequences[:10]  "
      ],
      "execution_count": 60,
      "outputs": [
        {
          "output_type": "execute_result",
          "data": {
            "text/plain": [
              "[[25, 16],\n",
              " [25, 16, 12],\n",
              " [25, 16, 12, 20],\n",
              " [25, 16, 12, 20, 2],\n",
              " [25, 16, 12, 20, 2, 1],\n",
              " [14, 5],\n",
              " [14, 5, 15],\n",
              " [14, 5, 15, 9],\n",
              " [14, 5, 15, 9, 5],\n",
              " [14, 5, 15, 9, 5, 4]]"
            ]
          },
          "metadata": {
            "tags": []
          },
          "execution_count": 60
        }
      ]
    },
    {
      "cell_type": "markdown",
      "metadata": {
        "id": "nmUKVgMiEkVb"
      },
      "source": [
        "We also need to know what is the maximum length of our examples. So why do we want to know that? \r\n",
        "\r\n",
        "because we will not have a variable length input to our model. We will have a fixed length and one way to making these sequences before fit in the model, wich expects a fixed length is to simply put zeros, which does not really mean anything, it just means ignored.  So let's calculate the maximum length"
      ]
    },
    {
      "cell_type": "code",
      "metadata": {
        "id": "BjRTMysvpt2o",
        "colab": {
          "base_uri": "https://localhost:8080/"
        },
        "outputId": "f9d3bcb5-6a92-43dc-9f1c-8532e6da846b"
      },
      "source": [
        "max_len = max([len(x) for x in sequences])\r\n",
        "print(max_len)"
      ],
      "execution_count": 61,
      "outputs": [
        {
          "output_type": "stream",
          "text": [
            "33\n"
          ],
          "name": "stdout"
        }
      ]
    },
    {
      "cell_type": "markdown",
      "metadata": {
        "id": "rGNy7IE8GqQl"
      },
      "source": [
        "So these sequences can be padded with zero. So all our sequences are going to be 33 of length. In the first example You can see all zeros an in the end we have 25 and 16, we use pedding pre because is more easier for us to create labels, all we have to do now is split each example in two, so the last character is always going to be the label and the sequences os number until that last character is goingo to be our example."
      ]
    },
    {
      "cell_type": "code",
      "metadata": {
        "id": "SR68pu2tpt2q",
        "colab": {
          "base_uri": "https://localhost:8080/"
        },
        "outputId": "32ac76e3-9702-423f-dff6-83c96a5fff32"
      },
      "source": [
        "padded_sequences = tf.keras.preprocessing.sequence.pad_sequences(\r\n",
        "    sequences, \r\n",
        "    padding='pre',\r\n",
        "    maxlen=max_len\r\n",
        ")\r\n",
        "print(padded_sequences[0])"
      ],
      "execution_count": 62,
      "outputs": [
        {
          "output_type": "stream",
          "text": [
            "[ 0  0  0  0  0  0  0  0  0  0  0  0  0  0  0  0  0  0  0  0  0  0  0  0\n",
            "  0  0  0  0  0  0  0 25 16]\n"
          ],
          "name": "stdout"
        }
      ]
    },
    {
      "cell_type": "code",
      "metadata": {
        "id": "h_1BtWO7pt2r",
        "colab": {
          "base_uri": "https://localhost:8080/"
        },
        "outputId": "8eaf2764-9f03-4526-b044-5785a53fc3d5"
      },
      "source": [
        "padded_sequences.shape"
      ],
      "execution_count": 63,
      "outputs": [
        {
          "output_type": "execute_result",
          "data": {
            "text/plain": [
              "(88279, 33)"
            ]
          },
          "metadata": {
            "tags": []
          },
          "execution_count": 63
        }
      ]
    },
    {
      "cell_type": "markdown",
      "metadata": {
        "id": "4HXesty05zRt"
      },
      "source": [
        "## Task 5: Creating Training and Validation Sets\n",
        "\n",
        "1. Creating training and validation sets"
      ]
    },
    {
      "cell_type": "markdown",
      "metadata": {
        "id": "ybUO4PEpaPZp"
      },
      "source": [
        "We have to split our data in examples and labels"
      ]
    },
    {
      "cell_type": "code",
      "metadata": {
        "id": "BE4BIeSnpt2v",
        "colab": {
          "base_uri": "https://localhost:8080/"
        },
        "outputId": "ae0c67a9-94f8-4ade-f6f6-db0106f38ccc"
      },
      "source": [
        "x, y = padded_sequences[:,:-1], padded_sequences[:, -1] # all the values not including the last one, and just the last one value\r\n",
        "print(x.shape, y.shape)"
      ],
      "execution_count": 64,
      "outputs": [
        {
          "output_type": "stream",
          "text": [
            "(88279, 32) (88279,)\n"
          ],
          "name": "stdout"
        }
      ]
    },
    {
      "cell_type": "markdown",
      "metadata": {
        "id": "NRJ9LpE_hmeB"
      },
      "source": [
        "\r\n",
        "Let's use sklearn for create training and validation sets\r\n",
        "\r\n"
      ]
    },
    {
      "cell_type": "code",
      "metadata": {
        "id": "sA3uLv3J5zRt",
        "colab": {
          "base_uri": "https://localhost:8080/"
        },
        "outputId": "c0874a9d-8dca-4209-ca12-fc33f2da4753"
      },
      "source": [
        "from sklearn.model_selection import train_test_split\r\n",
        "\r\n",
        "x_train, x_test, y_train, y_test = train_test_split(x, y)\r\n",
        "\r\n",
        "print(x_train.shape, y_train.shape)\r\n",
        "print(x_test.shape, y_test.shape)"
      ],
      "execution_count": 65,
      "outputs": [
        {
          "output_type": "stream",
          "text": [
            "(66209, 32) (66209,)\n",
            "(22070, 32) (22070,)\n"
          ],
          "name": "stdout"
        }
      ]
    },
    {
      "cell_type": "markdown",
      "metadata": {
        "id": "cwTmTcPdiBBy"
      },
      "source": [
        "Let's take a look at the size os the vocabulary."
      ]
    },
    {
      "cell_type": "code",
      "metadata": {
        "id": "cgqRZtqnpt2x",
        "colab": {
          "base_uri": "https://localhost:8080/"
        },
        "outputId": "3b3cbf53-6290-4199-e0e8-385a987b6a98"
      },
      "source": [
        "num_chars = len(char_to_index.keys())+1 # we need to add 1 because we added a zero to ou vocabulary\r\n",
        "num_chars"
      ],
      "execution_count": 67,
      "outputs": [
        {
          "output_type": "execute_result",
          "data": {
            "text/plain": [
              "29"
            ]
          },
          "metadata": {
            "tags": []
          },
          "execution_count": 67
        }
      ]
    },
    {
      "cell_type": "markdown",
      "metadata": {
        "id": "W50XOtKJ5zRt"
      },
      "source": [
        "## Task 6: Creating the Model"
      ]
    },
    {
      "cell_type": "code",
      "metadata": {
        "id": "5ezaJHWF5zRt",
        "colab": {
          "base_uri": "https://localhost:8080/"
        },
        "outputId": "c4aa8d5e-d102-47f7-94ab-6e2c14682769"
      },
      "source": [
        "from tensorflow.keras.models import Sequential\r\n",
        "from tensorflow.keras.layers import Embedding, Conv1D,MaxPooling1D, LSTM\r\n",
        "from tensorflow.keras.layers import Bidirectional, Dense\r\n",
        "\r\n",
        "model = Sequential([\r\n",
        "                    Embedding(num_chars, 8, input_length=max_len-1),\r\n",
        "                    Conv1D(64, 5, strides=1, activation='tanh', padding='causal'),\r\n",
        "                    MaxPooling1D(2),\r\n",
        "                    LSTM(32),\r\n",
        "                    Dense(num_chars, activation='softmax')\r\n",
        "])\r\n",
        "model.compile(\r\n",
        "    loss='sparse_categorical_crossentropy',\r\n",
        "    optimizer='adam',\r\n",
        "    metrics=['accuracy']\r\n",
        ")\r\n",
        "model.summary()"
      ],
      "execution_count": 68,
      "outputs": [
        {
          "output_type": "stream",
          "text": [
            "Model: \"sequential_9\"\n",
            "_________________________________________________________________\n",
            "Layer (type)                 Output Shape              Param #   \n",
            "=================================================================\n",
            "embedding_9 (Embedding)      (None, 32, 8)             232       \n",
            "_________________________________________________________________\n",
            "conv1d_9 (Conv1D)            (None, 32, 64)            2624      \n",
            "_________________________________________________________________\n",
            "max_pooling1d_9 (MaxPooling1 (None, 16, 64)            0         \n",
            "_________________________________________________________________\n",
            "lstm_9 (LSTM)                (None, 32)                12416     \n",
            "_________________________________________________________________\n",
            "dense_9 (Dense)              (None, 29)                957       \n",
            "=================================================================\n",
            "Total params: 16,229\n",
            "Trainable params: 16,229\n",
            "Non-trainable params: 0\n",
            "_________________________________________________________________\n"
          ],
          "name": "stdout"
        }
      ]
    },
    {
      "cell_type": "markdown",
      "metadata": {
        "id": "W6i1rdCG5zRt"
      },
      "source": [
        "## Task 7: Training the Model"
      ]
    },
    {
      "cell_type": "markdown",
      "metadata": {
        "id": "pSVZPgM-mZmN"
      },
      "source": [
        "The model that we have created is pretty small so it will be pretty fast to train"
      ]
    },
    {
      "cell_type": "code",
      "metadata": {
        "id": "j0Ssl4qupt22",
        "colab": {
          "base_uri": "https://localhost:8080/"
        },
        "outputId": "76300763-9279-4953-c01f-af1af6a47d6c"
      },
      "source": [
        "h = model.fit(x_train, y_train,\r\n",
        "              validation_data=(x_test, y_test),\r\n",
        "              epochs=50, verbose=2,\r\n",
        "              callbacks = [tf.keras.callbacks.EarlyStopping(monitor='val_accuracy', patience=3)]\r\n",
        "              )"
      ],
      "execution_count": 69,
      "outputs": [
        {
          "output_type": "stream",
          "text": [
            "Epoch 1/50\n",
            "2070/2070 - 10s - loss: 2.7302 - accuracy: 0.1934 - val_loss: 2.5770 - val_accuracy: 0.2250\n",
            "Epoch 2/50\n",
            "2070/2070 - 10s - loss: 2.5240 - accuracy: 0.2411 - val_loss: 2.4953 - val_accuracy: 0.2512\n",
            "Epoch 3/50\n",
            "2070/2070 - 10s - loss: 2.4596 - accuracy: 0.2589 - val_loss: 2.4499 - val_accuracy: 0.2623\n",
            "Epoch 4/50\n",
            "2070/2070 - 10s - loss: 2.4164 - accuracy: 0.2696 - val_loss: 2.4130 - val_accuracy: 0.2729\n",
            "Epoch 5/50\n",
            "2070/2070 - 10s - loss: 2.3804 - accuracy: 0.2794 - val_loss: 2.3917 - val_accuracy: 0.2757\n",
            "Epoch 6/50\n",
            "2070/2070 - 10s - loss: 2.3495 - accuracy: 0.2893 - val_loss: 2.3614 - val_accuracy: 0.2879\n",
            "Epoch 7/50\n",
            "2070/2070 - 10s - loss: 2.3214 - accuracy: 0.2960 - val_loss: 2.3404 - val_accuracy: 0.2983\n",
            "Epoch 8/50\n",
            "2070/2070 - 10s - loss: 2.2967 - accuracy: 0.3059 - val_loss: 2.3277 - val_accuracy: 0.3023\n",
            "Epoch 9/50\n",
            "2070/2070 - 10s - loss: 2.2749 - accuracy: 0.3103 - val_loss: 2.3105 - val_accuracy: 0.3071\n",
            "Epoch 10/50\n",
            "2070/2070 - 10s - loss: 2.2540 - accuracy: 0.3168 - val_loss: 2.2943 - val_accuracy: 0.3088\n",
            "Epoch 11/50\n",
            "2070/2070 - 9s - loss: 2.2349 - accuracy: 0.3210 - val_loss: 2.2805 - val_accuracy: 0.3150\n",
            "Epoch 12/50\n",
            "2070/2070 - 10s - loss: 2.2164 - accuracy: 0.3263 - val_loss: 2.2723 - val_accuracy: 0.3168\n",
            "Epoch 13/50\n",
            "2070/2070 - 10s - loss: 2.1992 - accuracy: 0.3324 - val_loss: 2.2626 - val_accuracy: 0.3198\n",
            "Epoch 14/50\n",
            "2070/2070 - 10s - loss: 2.1845 - accuracy: 0.3373 - val_loss: 2.2551 - val_accuracy: 0.3253\n",
            "Epoch 15/50\n",
            "2070/2070 - 9s - loss: 2.1699 - accuracy: 0.3422 - val_loss: 2.2434 - val_accuracy: 0.3294\n",
            "Epoch 16/50\n",
            "2070/2070 - 10s - loss: 2.1556 - accuracy: 0.3460 - val_loss: 2.2408 - val_accuracy: 0.3314\n",
            "Epoch 17/50\n",
            "2070/2070 - 10s - loss: 2.1432 - accuracy: 0.3500 - val_loss: 2.2363 - val_accuracy: 0.3354\n",
            "Epoch 18/50\n",
            "2070/2070 - 11s - loss: 2.1310 - accuracy: 0.3542 - val_loss: 2.2350 - val_accuracy: 0.3360\n",
            "Epoch 19/50\n",
            "2070/2070 - 9s - loss: 2.1199 - accuracy: 0.3591 - val_loss: 2.2299 - val_accuracy: 0.3373\n",
            "Epoch 20/50\n",
            "2070/2070 - 10s - loss: 2.1095 - accuracy: 0.3628 - val_loss: 2.2274 - val_accuracy: 0.3355\n",
            "Epoch 21/50\n",
            "2070/2070 - 10s - loss: 2.0995 - accuracy: 0.3646 - val_loss: 2.2187 - val_accuracy: 0.3402\n",
            "Epoch 22/50\n",
            "2070/2070 - 9s - loss: 2.0905 - accuracy: 0.3675 - val_loss: 2.2161 - val_accuracy: 0.3438\n",
            "Epoch 23/50\n",
            "2070/2070 - 10s - loss: 2.0823 - accuracy: 0.3727 - val_loss: 2.2122 - val_accuracy: 0.3454\n",
            "Epoch 24/50\n",
            "2070/2070 - 10s - loss: 2.0739 - accuracy: 0.3737 - val_loss: 2.2076 - val_accuracy: 0.3479\n",
            "Epoch 25/50\n",
            "2070/2070 - 10s - loss: 2.0657 - accuracy: 0.3764 - val_loss: 2.2109 - val_accuracy: 0.3475\n",
            "Epoch 26/50\n",
            "2070/2070 - 10s - loss: 2.0578 - accuracy: 0.3798 - val_loss: 2.2048 - val_accuracy: 0.3539\n",
            "Epoch 27/50\n",
            "2070/2070 - 10s - loss: 2.0507 - accuracy: 0.3820 - val_loss: 2.2069 - val_accuracy: 0.3530\n",
            "Epoch 28/50\n",
            "2070/2070 - 10s - loss: 2.0447 - accuracy: 0.3842 - val_loss: 2.2050 - val_accuracy: 0.3524\n",
            "Epoch 29/50\n",
            "2070/2070 - 10s - loss: 2.0367 - accuracy: 0.3866 - val_loss: 2.2049 - val_accuracy: 0.3540\n",
            "Epoch 30/50\n",
            "2070/2070 - 10s - loss: 2.0307 - accuracy: 0.3898 - val_loss: 2.2092 - val_accuracy: 0.3543\n",
            "Epoch 31/50\n",
            "2070/2070 - 10s - loss: 2.0248 - accuracy: 0.3918 - val_loss: 2.2020 - val_accuracy: 0.3566\n",
            "Epoch 32/50\n",
            "2070/2070 - 10s - loss: 2.0186 - accuracy: 0.3939 - val_loss: 2.2048 - val_accuracy: 0.3525\n",
            "Epoch 33/50\n",
            "2070/2070 - 10s - loss: 2.0125 - accuracy: 0.3955 - val_loss: 2.1994 - val_accuracy: 0.3569\n",
            "Epoch 34/50\n",
            "2070/2070 - 10s - loss: 2.0067 - accuracy: 0.3969 - val_loss: 2.2028 - val_accuracy: 0.3574\n",
            "Epoch 35/50\n",
            "2070/2070 - 10s - loss: 2.0023 - accuracy: 0.3979 - val_loss: 2.1983 - val_accuracy: 0.3553\n",
            "Epoch 36/50\n",
            "2070/2070 - 10s - loss: 1.9970 - accuracy: 0.3997 - val_loss: 2.1963 - val_accuracy: 0.3547\n",
            "Epoch 37/50\n",
            "2070/2070 - 10s - loss: 1.9924 - accuracy: 0.4022 - val_loss: 2.1996 - val_accuracy: 0.3599\n",
            "Epoch 38/50\n",
            "2070/2070 - 9s - loss: 1.9888 - accuracy: 0.4043 - val_loss: 2.1954 - val_accuracy: 0.3602\n",
            "Epoch 39/50\n",
            "2070/2070 - 10s - loss: 1.9828 - accuracy: 0.4048 - val_loss: 2.2004 - val_accuracy: 0.3571\n",
            "Epoch 40/50\n",
            "2070/2070 - 10s - loss: 1.9797 - accuracy: 0.4057 - val_loss: 2.2012 - val_accuracy: 0.3580\n",
            "Epoch 41/50\n",
            "2070/2070 - 10s - loss: 1.9756 - accuracy: 0.4059 - val_loss: 2.2033 - val_accuracy: 0.3583\n"
          ],
          "name": "stdout"
        }
      ]
    },
    {
      "cell_type": "markdown",
      "metadata": {
        "id": "nr1fVhFIp6CW"
      },
      "source": [
        "The training for me run for 41 epochs and i got 35% validation accuracy"
      ]
    },
    {
      "cell_type": "code",
      "metadata": {
        "colab": {
          "base_uri": "https://localhost:8080/",
          "height": 265
        },
        "id": "5NnDFLSdqNLA",
        "outputId": "190aed9b-240c-4ccd-e653-440dcefc8b48"
      },
      "source": [
        "from matplotlib import  pyplot as plt\r\n",
        "\r\n",
        "epochs_ran = len(h.history['loss'])\r\n",
        "\r\n",
        "plt.plot(range(0, epochs_ran), h.history['val_accuracy'], label= 'Validation')\r\n",
        "plt.plot(range(0, epochs_ran), h.history['accuracy'], label= 'Training')\r\n",
        "plt.legend()\r\n",
        "plt.show()"
      ],
      "execution_count": 73,
      "outputs": [
        {
          "output_type": "display_data",
          "data": {
            "image/png": "[encoded data removed]",
            "text/plain": [
              "<Figure size 432x288 with 1 Axes>"
            ]
          },
          "metadata": {
            "tags": [],
            "needs_background": "light"
          }
        }
      ]
    },
    {
      "cell_type": "markdown",
      "metadata": {
        "id": "6rHguRAf5zRu"
      },
      "source": [
        "## Task 8: Generate Names!"
      ]
    },
    {
      "cell_type": "markdown",
      "metadata": {
        "id": "B6PcozLvrIgP"
      },
      "source": [
        "seed could be a single character or a sequence of characters"
      ]
    },
    {
      "cell_type": "code",
      "metadata": {
        "id": "9f50aTRcpt24"
      },
      "source": [
        "def generate_names(seed):\r\n",
        "    for i in range(0,40):\r\n",
        "      seq = name_to_seq(seed)\r\n",
        "      padded = tf.keras.preprocessing.sequence.pad_sequences([seq], \r\n",
        "                                                             padding='pre', \r\n",
        "                                                             maxlen=max_len-1,\r\n",
        "                                                             truncating='pre')\r\n",
        "      pred = model.predict(padded)[0]\r\n",
        "      pred_char = index_to_char[tf.argmax(pred).numpy()]\r\n",
        "      seed += pred_char\r\n",
        "\r\n",
        "      if pred_char == '\\t':\r\n",
        "        break\r\n",
        "    print(seed) "
      ],
      "execution_count": 82,
      "outputs": []
    },
    {
      "cell_type": "code",
      "metadata": {
        "id": "faQ0FInlpt26",
        "colab": {
          "base_uri": "https://localhost:8080/"
        },
        "outputId": "71fec924-e206-4835-8932-dd7428995c14"
      },
      "source": [
        "generate_names('peter')"
      ],
      "execution_count": 95,
      "outputs": [
        {
          "output_type": "stream",
          "text": [
            "peter mariu\t\n"
          ],
          "name": "stdout"
        }
      ]
    }
  ]
}