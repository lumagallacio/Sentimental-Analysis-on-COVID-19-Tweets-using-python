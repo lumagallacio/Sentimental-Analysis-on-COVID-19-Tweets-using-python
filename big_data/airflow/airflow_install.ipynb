{
 "cells": [
  {
   "cell_type": "markdown",
   "metadata": {},
   "source": [
    "# Tutorial como instalar Apache Airflow com Docker"
   ]
  },
  {
   "cell_type": "markdown",
   "metadata": {},
   "source": [
    "## O que é o Apache Airflow?\n",
    "\n",
    "É uma plataforma de código aberto desenvolvida pela comunidade para criar, agendar e monitorar workflow de maneira automática. \n",
    "\n",
    "É normalmente utilizado quando temos fluxos de trabalho computacionais complexos e pipelines de processamento de dados. \n",
    "\n",
    "Podemos ver como um agendador de tarefas, onde uma tarefa pode consistir em várias etapas com dependências complexas. Com isso o Airflow executa as tarefas em horários predefinidos, seguindo as dependências, determinando a ordem de execução das tarefas, quais tarefas são dependentes umas das outras e quais tarefas devem ser acionadas."
   ]
  },
  {
   "cell_type": "markdown",
   "metadata": {},
   "source": [
    "## Quais vantagens de usar?\n",
    "\n",
    "**Dinâmico**: Os DAGs no Airflow são completamente dinâmicos e flexíveis. Os pipelines do Airflow são configurados como código (Python), permitindo a geração dinâmica de pipelines e proporcionando controle total sobre eles.\n",
    "\n",
    "**Extensível**: O Airflow oferece diversos executores e operadores que suportam praticamente todos os tipos de execução de tarefas. É possível definir facilmente seus próprios operadores e executores, estendendo a biblioteca para adequá-la ao nível de abstração que se adapta ao seu ambiente.\n",
    "\n",
    "**Escalabilidade**: A capacidade de medir quantas tarefas podem ser executadas é suportada por sistemas de múltiplos nós de trabalhadores, permitindo a implantação de um número variável de nós de trabalho."
   ]
  },
  {
   "cell_type": "markdown",
   "metadata": {},
   "source": [
    "## O que são as DAGS?\n",
    "\n",
    "O workflow é feito a partir das Directed Acyclic Graphs (DAGS), que nada mais são que sequências de tarefas a serem executadas.\n",
    "\n",
    "Pensndo em uma estrutura de grafos, uma DAG é um nó que conecta as arestas, onde cada nó no grafo representa uma tarefa, e as arestas definem as dependências entre as tarefas.\n",
    "\n",
    "Exemplos de tarefas: \n",
    "- Transferência de dados de uma tarefa para outra.\n",
    "- Realização de backups.\n",
    "- Automatização de operações.\n",
    "- Experimentos de aprendizado de máquina."
   ]
  },
  {
   "cell_type": "markdown",
   "metadata": {},
   "source": [
    "O que é uma Tarefa (Task)?\n",
    "A tarefa é representada como um nó na DAG. No exemplo abaixo, wash_rice é uma tarefa, assim como os outros nós. Perceba que a task cook_rice só será executada uma vez que wash_rice foi executada corretamente. Assim como roll_sushi só será executado quando todas as anteriores tiverem terminado.\n",
    "\n",
    "\n",
    "<img src=\"imgs/sushi-roll-workflow-1.png\" width=\"600\" height=\"400\">\n",
    "\n"
   ]
  },
  {
   "cell_type": "markdown",
   "metadata": {},
   "source": [
    "## E os Operadores?"
   ]
  },
  {
   "cell_type": "markdown",
   "metadata": {},
   "source": [
    "Um operador determina o que vai ser feito. Você pode pensar em um operador como um objeto ou tarefa dentro do DAG, e existem muitos tipos de operadores que vamos explicar:"
   ]
  },
  {
   "cell_type": "markdown",
   "metadata": {},
   "source": [
    "## Componentes\n",
    "\n",
    "Diagrama das principais componentes:\n",
    "\n",
    "![alt text](imgs/comps.png \"Title\")\n"
   ]
  },
  {
   "cell_type": "markdown",
   "metadata": {},
   "source": [
    "**Tipos de Executors (Executores):**\n",
    "Quando se trata de executar tarefas no Apache Airflow, existem vários tipos de executores disponíveis. Cada executor tem seus próprios pontos fortes e fracos, dependendo do caso de uso específico. Nesta seção, exploraremos quatro tipos comuns de executores: \n",
    "\n",
    "**Sequential Executor (Executor Sequencial):**\n",
    "O executor sequencial é o executor padrão. Executa uma instância de tarefa por vez. Aqui, o banco de dados de metadados pode ser SQLite. \n",
    "\n",
    "Prós:\n",
    "- Nenhuma configuração é necessária. \n",
    "- Leve e econômico.\n",
    "\n",
    "Contras:\n",
    "- Não escalável.\n",
    "- Lento, pois executa uma tarefa de cada vez.\n",
    "- Ponto único de falha.\n",
    "- Não adequado para produção.\n",
    "\n",
    "**Local Executor (Executor Local):**\n",
    "Executa com o agendador, pode executar várias tarefas simultaneamente, e aqui, o banco de dados de metadados pode ser MYSQL ou PostgreSQL.\n",
    "\n",
    "Prós:\n",
    "- Fácil de configurar.\n",
    "- Leve.\n",
    "- Pode executar várias tarefas\n",
    "\n",
    "Contras:\n",
    "* Ponto único de falha.\n",
    "* Não adequado para produção.\n",
    "\n",
    "\n",
    "**Celery Executor (Executor Celery):**\n",
    "Executa tarefas em uma máquina dedicada, consulta de tarefas distribuída, e aqui, o banco de dados de metadados pode ser MYSQL ou PostgreSQL. A máquina continuará funcionando mesmo se não houver tarefas em execução. Por esse motivo, o Celery é usado se tivermos um alto volume de tarefas para evitar desperdício de recursos.\n",
    "\n",
    "Prós:\n",
    "- Tolerante a falhas.\n",
    "- Adequado para ambientes de produção.\n",
    "\n",
    "Contras:\n",
    "- Projetado para escala horizontal.\n",
    "* Demora para configurar.\n",
    "* Desperdício de recursos.\n",
    "* Não é economicamente eficiente.\n",
    "\n",
    "**Kubernetes Executor (Executor Kubernetes):**\n",
    "Usa a API do Kubernetes para gerenciar pods e você pode atribuir recursos com base no seu uso.\n",
    "\n",
    "Prós:\n",
    "- Pode atribuir recursos a tarefas individuais.\n",
    "- Eficiente em termos de custo e recursos.\n",
    "\n",
    "Contras:\n",
    "- Requer conhecimento em Kubernetes."
   ]
  },
  {
   "cell_type": "markdown",
   "metadata": {},
   "source": [
    "# Instalação Via Docker"
   ]
  },
  {
   "cell_type": "markdown",
   "metadata": {},
   "source": [
    "Siga estas etapas para instalar as ferramentas necessárias, caso ainda não o tenha feito.\n",
    "\n",
    "Instale o Docker Community Edition (CE).\n",
    "\n",
    "Instale o Docker Compose v2.14.0 ou uma versão mais recente."
   ]
  },
  {
   "cell_type": "code",
   "execution_count": 16,
   "metadata": {},
   "outputs": [
    {
     "name": "stdout",
     "output_type": "stream",
     "text": [
      "Docker Compose version v2.21.0\n",
      "Docker version 24.0.7, build afdd53b\n"
     ]
    }
   ],
   "source": [
    "!docker compose version\n",
    "\n",
    "!docker --version"
   ]
  },
  {
   "cell_type": "markdown",
   "metadata": {},
   "source": [
    "Vamos baixar o docker-compose"
   ]
  },
  {
   "cell_type": "code",
   "execution_count": 19,
   "metadata": {},
   "outputs": [
    {
     "name": "stdout",
     "output_type": "stream",
     "text": [
      "  % Total    % Received % Xferd  Average Speed   Time    Time     Time  Current\n",
      "                                 Dload  Upload   Total   Spent    Left  Speed\n",
      "100 10940  100 10940    0     0  57249      0 --:--:-- --:--:-- --:--:-- 57277\n"
     ]
    }
   ],
   "source": [
    "!curl -LfO 'https://airflow.apache.org/docs/apache-airflow/2.8.0/docker-compose.yaml'"
   ]
  },
  {
   "cell_type": "markdown",
   "metadata": {},
   "source": [
    "Vamos ter vários serviços:\n",
    "**Postgres**: Executa um banco de dados PostgreSQL, comumente usado como o banco de dados principal do Apache Airflow. Armazena metadados e logs de execução de tarefas.\n",
    "\n",
    "**Redis**: Executa um servidor Redis, frequentemente usado como o broker de mensagens para o Apache Airflow. O scheduler e o worker utilizam o Redis para comunicação e coordenação da execução de tarefas.\n",
    "\n",
    "**airflow-webserver**: Executa o servidor web do Apache Airflow, a principal interface para interagir com o Apache Airflow. Fornece uma UI amigável para gerenciar DAGs, cronogramas e tarefas.\n",
    "\n",
    "**airflow-scheduler**: Executa o scheduler do Apache Airflow, responsável por agendar tarefas e acionar instâncias de tarefas para execução. Verifica novas tarefas a serem executadas e cria instâncias com base no cronograma definido.\n",
    "\n",
    "**airflow-worker**: Executa o worker do Apache Airflow, que executa tarefas definidas nos DAGs do Apache Airflow. O worker aguarda novas tarefas e as executa quando acionado pelo scheduler.\n",
    "\n",
    "**airflow-triggerer**: Executa um processo separado que escuta por acionadores externos para iniciar DAGs do Apache Airflow. Isso pode ser útil para acionar fluxos de trabalho com base em eventos ou dados externos.\n",
    "\n",
    "**airflow-init**: Executa scripts de inicialização para configurar o esquema do banco de dados do Airflow e criar um usuário administrador. Normalmente, é executado apenas uma vez durante a configuração inicial do ambiente do Apache Airflow.\n",
    "\n",
    "**flower: Executa um processo separado que fornece uma interface web para monitorar tarefas e workers do Apache Airflow. Pode ser útil para acompanhar o progresso das tarefas e solucionar problemas."
   ]
  },
  {
   "cell_type": "markdown",
   "metadata": {},
   "source": [
    "Vamos criar as pastas que serão compartilhadas entre o o seu computador e o container.\n",
    "\n",
    "./dags: Você pode colocar seus arquivos DAG aqui.\n",
    "\n",
    "./logs: Contém logs da execução de tarefas e do scheduler.\n",
    "\n",
    "./plugins: Você pode colocar seus plugins aqui.\n",
    "\n",
    "./config: Arquivos de configuração ficam aqui."
   ]
  },
  {
   "cell_type": "code",
   "execution_count": 22,
   "metadata": {},
   "outputs": [],
   "source": [
    "!mkdir -p ./dags ./logs ./plugins ./config"
   ]
  },
  {
   "cell_type": "markdown",
   "metadata": {},
   "source": [
    "A instância do Apache Airflow pode ser inicializada agora utilizando o serviço 'airflow-init'."
   ]
  },
  {
   "cell_type": "code",
   "execution_count": 1,
   "metadata": {},
   "outputs": [],
   "source": [
    "!docker compose up airflow-init"
   ]
  },
  {
   "cell_type": "markdown",
   "metadata": {},
   "source": [
    "\n",
    "Agora que todos os serviços relacionados foram inicializados, é hora de executar o Airflow."
   ]
  },
  {
   "cell_type": "code",
   "execution_count": 2,
   "metadata": {},
   "outputs": [],
   "source": [
    "!docker-compose up -d"
   ]
  },
  {
   "cell_type": "markdown",
   "metadata": {},
   "source": [
    "Para verificar se o serviço do Airflow está em execução, execute o seguinte comando no prompt de comando"
   ]
  },
  {
   "cell_type": "code",
   "execution_count": 5,
   "metadata": {},
   "outputs": [
    {
     "name": "stdout",
     "output_type": "stream",
     "text": [
      "CONTAINER ID   IMAGE                  COMMAND                  CREATED              STATUS                             PORTS                                       NAMES\n",
      "6ab2890ea98e   apache/airflow:2.8.0   \"/usr/bin/dumb-init …\"   28 seconds ago       Up 26 seconds (health: starting)   8080/tcp                                    airflow_airflow-scheduler_1\n",
      "8461d2abf916   apache/airflow:2.8.0   \"/usr/bin/dumb-init …\"   28 seconds ago       Up 26 seconds (health: starting)   8080/tcp                                    airflow_airflow-triggerer_1\n",
      "0d479b9d0fce   apache/airflow:2.8.0   \"/usr/bin/dumb-init …\"   28 seconds ago       Up 25 seconds (health: starting)   0.0.0.0:8080->8080/tcp, :::8080->8080/tcp   airflow_airflow-webserver_1\n",
      "18d20622a0b7   apache/airflow:2.8.0   \"/usr/bin/dumb-init …\"   28 seconds ago       Up 26 seconds (health: starting)   8080/tcp                                    airflow_airflow-worker_1\n",
      "bf4bb5c7e8bc   postgres:13            \"docker-entrypoint.s…\"   About a minute ago   Up About a minute (healthy)        5432/tcp                                    airflow_postgres_1\n",
      "a47fc271524f   redis:latest           \"docker-entrypoint.s…\"   About a minute ago   Up About a minute (healthy)        6379/tcp                                    airflow_redis_1\n"
     ]
    }
   ],
   "source": [
    "!docker ps"
   ]
  },
  {
   "cell_type": "markdown",
   "metadata": {},
   "source": [
    "\n",
    "Abra um navegador e digite a URL local: http://localhost:8080. Prrencha o nome de usuário como \"airflow\" e a senha como \"airflow\".\n",
    "\n",
    "Finalmente, o Apache Airflow está em execução!\n",
    "\n",
    "![alt text](imgs/capturas.png \"Title\")\n"
   ]
  }
 ],
 "metadata": {
  "kernelspec": {
   "display_name": "livia",
   "language": "python",
   "name": "python3"
  },
  "language_info": {
   "codemirror_mode": {
    "name": "ipython",
    "version": 3
   },
   "file_extension": ".py",
   "mimetype": "text/x-python",
   "name": "python",
   "nbconvert_exporter": "python",
   "pygments_lexer": "ipython3",
   "version": "3.9.17"
  }
 },
 "nbformat": 4,
 "nbformat_minor": 2
}
