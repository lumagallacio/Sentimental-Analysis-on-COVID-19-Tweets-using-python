{
 "cells": [
  {
   "cell_type": "markdown",
   "metadata": {},
   "source": [
    "# Como a álgebra linear resolve problemas de regressão linear"
   ]
  },
  {
   "cell_type": "markdown",
   "metadata": {},
   "source": [
    "Sabemos que Regressão Linear é um método muito utilizado. Se você já fez algum curso de ciência de dados ou estatística já deve ter estudado.\n",
    "O método serve para modelar a relação entre uma ou mais variáveis independentes e uma variável dependente. É considerado um pilar da estatística e frequentemente é considerado um bom método introdutório para aprendizado de máquina. \n",
    "\n",
    "Podemos formular o método usando notação de matriz e resolvido por meio de operações matriciais.\n",
    "Neste tutorial, você vai explorar a formulação matricial da regressão linear e aprender como resolvê-la utilizando métodos diretos e de fatoração de matriz.\n",
    "\n",
    "Vamos ver:\n",
    "- Regressão linear e a reformulação matricial com as equações normais."
   ]
  },
  {
   "cell_type": "markdown",
   "metadata": {},
   "source": [
    "## Regressão Linear"
   ]
  },
  {
   "cell_type": "markdown",
   "metadata": {},
   "source": [
    "Queremos modelar a relação entre a variável de input (x) e a variável resposta (y).\n",
    "\n",
    "y = f(x)\n",
    "\n",
    "\n",
    "Vamos assumir que nossa função que mapeia x em y é linear, então:\n",
    "\n",
    "y = b0 + b1 . x1\n",
    "\n",
    "onde b0 eb1 são os coeficientes da função. \n",
    "\n",
    "(Observe q temos é a equação da reta. O modelo de regressão linear é uma reta q melhor se ajusta as nosso dados de input - x)\n",
    "\n",
    "Podemos ter mútiplos inputs (regressão linear multivariada)\n",
    "\n",
    "\n",
    "y = b0 + (b1 . x1) + (b2 . x2) + ... + (bn . xn)\n",
    "\n",
    "Nosso objetivo é criar um modelo que encontra o valor dos coeficientes (b) que minimiza o erro entre o y predito e o y real.\n",
    "\n",
    "(Observe que encontrando os coeficientes podemos traçar nossa reta para qualquer valor de x e, assim, temos o nosso y predito)"
   ]
  },
  {
   "cell_type": "markdown",
   "metadata": {},
   "source": [
    "## Notação matricial da Regressão Linear"
   ]
  },
  {
   "cell_type": "markdown",
   "metadata": {},
   "source": [
    "Podemos escrever a notação matricial da forma:\n",
    "\n",
    "y = X . b\n",
    "\n",
    "ou sem o ponto:\n",
    "\n",
    "y = Xb\n",
    "\n",
    "Onde X é o conjunto de dados (input) e cada coluna representa uma feature dos dados, b é um vetor de coeficientes, e y é um vetor de variáveis de saída para cada linha em X.\n",
    "\n",
    "\n",
    "\n",
    "$$\n",
    "y = \\begin{bmatrix}\n",
    "y_1 \\\\\n",
    "y_2 \\\\\n",
    "y_3 \\\\\n",
    "y_4 \\\\\n",
    "\\end{bmatrix}\n",
    "= \\begin{bmatrix}\n",
    "x_{11} & x_{12} & x_{13} \\\\\n",
    "x_{21} & x_{22} & x_{23} \\\\\n",
    "x_{31} & x_{32} & x_{33} \\\\\n",
    "x_{41} & x_{42} & x_{43} \\\\\n",
    "\\end{bmatrix}\n",
    "\\begin{bmatrix}\n",
    "b_1 \\\\\n",
    "b_2 \\\\\n",
    "b_3 \\\\\n",
    "\\end{bmatrix}\n",
    "$$\n",
    "\n"
   ]
  },
  {
   "cell_type": "markdown",
   "metadata": {},
   "source": [
    "Reformulado, o problema se torna um sistema de equações lineares onde os valores do vetor b (coenficientes) são desconhecidos.\n",
    "\n",
    "Perceba que normalmente nossos dados tem mais exemplos do que variáveis, ou seja, a matriz X é comprida com muitas linhas e poucas colunas. Isso ocorre porque nossos dados são organizados na matriz da forma que as colunas são as variáveis (exemplo: peso, altura, etc) e nas linhas temos as observações (x1, x2, ...). \n",
    "\n",
    "Perceba que para encontrar o valores de b, temos que resolver um sistema de equações porém temos mais equações do que incógnitas, ou seja, cada coeficiente é usado em cada linha de dados. Em resumo, um sistema com mais equações do que variáveis não vai ter solução. Então, vamos procurar uma solução que seja mais próxima com algum erro, já que não há uma linha que passe exatamente por todos os pontos. Portanto, a abordagem para resolver as equações deve ser capaz de lidar com isso.\n",
    "\n",
    "**Em resumo:** \n",
    "\n",
    "O problema que queremos resolver é: y=Xb . Encontrar o valor do vetor b que fazendo a combinação linear com nosso dados, vai nos dar a reta y.\n",
    "\n",
    "Mas não tem solução! Não existe uma reta que passe por todos os pontos dos nosso dados. (temos mais equações que variáveis)\n",
    "\n",
    "Como resolvemos?\n",
    "\n",
    "Vamos aproximar! Queremos uma reta que melhor de ajuste aos dados.\n",
    "\n",
    "A maneira típica de lidar com isso é encontrar uma solução na qual os valores de b minimizem o erro quadrático. Isso é chamado de mínimos quadrados lineares.\n",
    "Em notação de matriz, esse problema é formulado usando a chamada equação normal:\n",
    "\n",
    "$$\n",
    "X^T \\cdot X \\cdot b = X^T \\cdot y\n",
    "$$\n",
    "\n",
    "Então, a equação normal nos traz a solução que minimiza o erro. \n",
    "\n",
    "Vamos pra parte prática!"
   ]
  },
  {
   "cell_type": "markdown",
   "metadata": {},
   "source": [
    "## Dataset\n",
    "\n",
    "Usaremos um conjunto de dados simples em 2D, onde os dados são fáceis de visualizar em um gráfico de dispersão e o modelo é fácil de visualizar como uma linha.\n",
    "\n",
    "O exemplo abaixo define um conjunto de dados em forma de matriz 5x2, o divide em componentes X e y, e representa o conjunto de dados como um gráfico de dispersão."
   ]
  },
  {
   "cell_type": "code",
   "execution_count": 2,
   "metadata": {},
   "outputs": [
    {
     "name": "stdout",
     "output_type": "stream",
     "text": [
      "[[0.05 0.12]\n",
      " [0.18 0.22]\n",
      " [0.31 0.35]\n",
      " [0.42 0.38]\n",
      " [0.5  0.49]]\n"
     ]
    },
    {
     "data": {
      "image/png": "[encoded data removed]",
      "text/plain": [
       "<Figure size 640x480 with 1 Axes>"
      ]
     },
     "metadata": {},
     "output_type": "display_data"
    }
   ],
   "source": [
    "from numpy import array\n",
    "from matplotlib import pyplot\n",
    "\n",
    "data = array([\n",
    " [0.05, 0.12],\n",
    " [0.18, 0.22],\n",
    " [0.31, 0.35],\n",
    " [0.42, 0.38],\n",
    " [0.5, 0.49],\n",
    " ])\n",
    "\n",
    "print(data)\n",
    "\n",
    "X, y = data[:,0], data[:,1]\n",
    "X = X.reshape((len(X), 1))\n",
    "\n",
    "# plot dataset\n",
    "pyplot.scatter(X, y)\n",
    "pyplot.show()"
   ]
  },
  {
   "cell_type": "markdown",
   "metadata": {},
   "source": [
    "## Resolver o problema\n",
    "\n",
    "A função do numpy linalg.solve resolve de um sistema linear de equações.\n",
    "O primeiro argumento é a matriz resultante de  np.dot(X.T,X).\n",
    "O segundo argumento é o vetor resultante de  np.dot(X.T,y).\n",
    "\n",
    "\n",
    "Em resumo, o código está resolvendo o sistema de equações normais na forma matricial para encontrar os coeficientes (b) que minimizam o erro na regressão linear."
   ]
  },
  {
   "cell_type": "code",
   "execution_count": 5,
   "metadata": {},
   "outputs": [
    {
     "name": "stdout",
     "output_type": "stream",
     "text": [
      "b value:  [1.00233226]\n"
     ]
    },
    {
     "data": {
      "image/png": "[encoded data removed]",
      "text/plain": [
       "<Figure size 640x480 with 1 Axes>"
      ]
     },
     "metadata": {},
     "output_type": "display_data"
    }
   ],
   "source": [
    "import numpy as np\n",
    "\n",
    "b = np.linalg.solve(np.dot(X.T, X), np.dot(X.T, y))\n",
    "print(\"b value: \", b)\n",
    "# predict using coefficients\n",
    "yhat = X.dot(b)\n",
    "# plot data and predictions\n",
    "pyplot.scatter(X, y)\n",
    "pyplot.plot(X, yhat, color='red')\n",
    "pyplot.show()"
   ]
  },
  {
   "cell_type": "markdown",
   "metadata": {},
   "source": [
    "Temos o  gráfico de dispersão do conjunto de dados com uma linha representando o modelo, mostrando um fit razoável aos dados."
   ]
  }
 ],
 "metadata": {
  "kernelspec": {
   "display_name": "derm_class",
   "language": "python",
   "name": "python3"
  },
  "language_info": {
   "codemirror_mode": {
    "name": "ipython",
    "version": 3
   },
   "file_extension": ".py",
   "mimetype": "text/x-python",
   "name": "python",
   "nbconvert_exporter": "python",
   "pygments_lexer": "ipython3",
   "version": "3.8.0"
  }
 },
 "nbformat": 4,
 "nbformat_minor": 2
}
